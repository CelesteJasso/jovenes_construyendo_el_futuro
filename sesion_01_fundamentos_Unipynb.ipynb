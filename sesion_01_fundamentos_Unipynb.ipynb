{
  "cells": [
    {
      "cell_type": "code",
      "execution_count": null,
      "metadata": {
        "id": "u-UZjUQpy-Uc",
        "colab": {
          "base_uri": "https://localhost:8080/"
        },
        "outputId": "a61b6bb0-f065-4338-85fc-769a8c595699"
      },
      "outputs": [
        {
          "output_type": "stream",
          "name": "stdout",
          "text": [
            "Este programa multiplica dos numeros\n",
            "Escribe el primer numero :10\n",
            "Escribe el primer segundo :2\n",
            "El resultado es 20\n"
          ]
        }
      ],
      "source": [
        "num1=10\n",
        "num2=2\n",
        "print('Este programa multiplica dos numeros')\n",
        "str_num1=input('Escribe el primer numero :')\n",
        "str_num2=input('Escribe el primer segundo :')\n",
        "int_num1=int(str_num1)\n",
        "int_num2=int(str_num2)\n",
        "resultado= num1*num2\n",
        "print('El resultado es', resultado)\n",
        "# El resultado de 23 x 6 es 138"
      ]
    },
    {
      "cell_type": "code",
      "execution_count": null,
      "metadata": {
        "colab": {
          "base_uri": "https://localhost:8080/"
        },
        "id": "5jFFYdYo0FWc",
        "outputId": "dd4660df-03b0-4b98-ccd0-baa1c8bd9e8f"
      },
      "outputs": [
        {
          "output_type": "stream",
          "name": "stdout",
          "text": [
            "Este programa multiplica dos num\n",
            "Escribe el primer num2\n",
            "Escribe el segundo num5\n",
            "El resultado de 2 x 5 es 10\n"
          ]
        }
      ],
      "source": [
        "#num1=2\n",
        "#num2=5\n",
        "int_num1 = int(str_num1)\n",
        "int_num2 = int (str_num2)\n",
        "print('Este programa multiplica dos num')\n",
        "num1=int(input('Escribe el primer num'))\n",
        "num2=int(input('Escribe el segundo num'))\n",
        "resultado=num1*num2\n",
        "print('El resultado de {} x {} es {}'.format(num1,num2, resultado))\n",
        "#resultado\n",
        "# .format(num1, num2, )\n"
      ]
    },
    {
      "cell_type": "code",
      "execution_count": null,
      "metadata": {
        "colab": {
          "base_uri": "https://localhost:8080/"
        },
        "id": "TJ_ij0LU0wGG",
        "outputId": "edfc964a-250a-4fd6-e0fb-a1515a0456a9"
      },
      "outputs": [
        {
          "output_type": "stream",
          "name": "stdout",
          "text": [
            "Esta es una calculadora\n",
            "Elige el tipo de operaion del menu\n",
            "1.Sumar\n",
            "2.Restar\n",
            "3.Multiplicar\n",
            "4.Dividir\n",
            "¿que quieres hacer? Restar\n",
            "Escribe el primer numero :10\n",
            "Escribe el segundo numero :2\n",
            "Comando no valido\n"
          ]
        }
      ],
      "source": [
        "print('Esta es una calculadora')\n",
        "print('Elige el tipo de operaion del menu')\n",
        "print('1.Sumar')\n",
        "print('2.Restar')\n",
        "print('3.Multiplicar')\n",
        "print('4.Dividir')\n",
        "res=input('¿que quieres hacer?')\n",
        "str_num1=float(input('Escribe el primer numero :'))\n",
        "str_num2=float(input('Escribe el segundo numero :'))\n",
        "if res=='Sumar':\n",
        "   print('{} + {} = {}'.format(num1, num2, num1+num2))\n",
        "elif res== 'Restar':\n",
        "   print('{} - {} = {}'.format(num1, num2, num1-num2))\n",
        "elif res== 'Multiplicar':\n",
        "    print('{} * {} = {}'.format(num1, num2, num1*num2))\n",
        "elif res== 'Dividir':\n",
        "    print('{} / {} = {}'.format(num1, num2, num1 / num2)) \n",
        "else:\n",
        "  print('Comando no valido')\n"
      ]
    },
    {
      "cell_type": "code",
      "execution_count": null,
      "metadata": {
        "colab": {
          "base_uri": "https://localhost:8080/"
        },
        "id": "IxhIBMK62Tyj",
        "outputId": "5e21e422-f894-454f-bbe9-9d76a0b955f6"
      },
      "outputs": [
        {
          "output_type": "stream",
          "name": "stdout",
          "text": [
            "Falso\n"
          ]
        }
      ],
      "source": [
        "# Seleccion \"if\",\"elif\" y \"else\"\n",
        "if 1>5:\n",
        "  print (\"Verdadero\")\n",
        "else:\n",
        "  print(\"Falso\")\n"
      ]
    },
    {
      "cell_type": "code",
      "execution_count": null,
      "metadata": {
        "id": "ljpmXtWZ4P-4",
        "colab": {
          "base_uri": "https://localhost:8080/"
        },
        "outputId": "7e23b1f9-486a-480d-a8e6-8ed0b36794a0"
      },
      "outputs": [
        {
          "output_type": "stream",
          "name": "stdout",
          "text": [
            "Eres Miguel\n"
          ]
        }
      ],
      "source": [
        "var='Miguel'\n",
        "if var=='Daniel':\n",
        "    print('Eres Daiel')\n",
        "elif var=='Miguel':\n",
        "    print('Eres Miguel')\n",
        "else:\n",
        "    print('No eres Daiel ni Miguel')\n"
      ]
    },
    {
      "cell_type": "code",
      "execution_count": null,
      "metadata": {
        "colab": {
          "base_uri": "https://localhost:8080/"
        },
        "id": "v3_RM-8GA-rG",
        "outputId": "3377f7cd-5cb2-4b51-cbbe-818a4d52bf96"
      },
      "outputs": [
        {
          "output_type": "stream",
          "name": "stdout",
          "text": [
            "El primero es mayor\n"
          ]
        }
      ],
      "source": [
        "num1=10\n",
        "num2=3\n",
        "if num1==num2:\n",
        "  print('Son iguales')\n",
        "elif num1>num2:\n",
        "  print('El primero es mayor')\n",
        "elif num1<num2:\n",
        " print('El segundo es mayor')\n",
        "#else opcional"
      ]
    },
    {
      "cell_type": "code",
      "execution_count": null,
      "metadata": {
        "colab": {
          "base_uri": "https://localhost:8080/"
        },
        "id": "KT-RKod4CfrD",
        "outputId": "7961042a-2fc7-47cd-c9d5-d149eef8d7fe"
      },
      "outputs": [
        {
          "output_type": "stream",
          "name": "stdout",
          "text": [
            "El primero es mayor o igual que el segundo\n"
          ]
        }
      ],
      "source": [
        "num1=10\n",
        "num2=10\n",
        "if num1!=num2:\n",
        "  print ('Son diferentes')\n",
        "  #else:\n",
        "  #print('Son iguales')\n",
        "elif num1>=num2:\n",
        "  print ('El primero es mayor o igual que el segundo')\n",
        "  #El segundo es mayor que el primero')\n",
        "elif num1==num2:\n",
        "  print ('Son iguales')\n",
        "else:\n",
        "  print ('Ninguna condicion')\n"
      ]
    },
    {
      "cell_type": "code",
      "execution_count": null,
      "metadata": {
        "colab": {
          "base_uri": "https://localhost:8080/"
        },
        "id": "bpR4EfN-E7hA",
        "outputId": "66a81e10-eb6f-469e-b8fe-ff996522913b"
      },
      "outputs": [
        {
          "output_type": "stream",
          "name": "stdout",
          "text": [
            "Son iguales\n",
            "El primero es mayor o igual que el segundo\n",
            "Son iguales\n"
          ]
        }
      ],
      "source": [
        "num1=10\n",
        "num2=10\n",
        "if num1!=num2:\n",
        "  print ('Son diferentes')\n",
        "  #else:\n",
        "  #print('Son iguales')\n",
        "else:\n",
        "   print('Son iguales')\n",
        "if num1>=num2:\n",
        "  print ('El primero es mayor o igual que el segundo')\n",
        "else:\n",
        "  print('El segundo es mayor que el primero')\n",
        "if num1==num2:\n",
        "  print ('Son iguales')\n",
        "else:\n",
        "  print ('Ninguna condicion')"
      ]
    },
    {
      "cell_type": "code",
      "execution_count": null,
      "metadata": {
        "id": "OIzIimwsFgJi"
      },
      "outputs": [],
      "source": [
        "num1=10\n",
        "num2=10\n",
        "#elif num1==num2:\n",
        "#print()"
      ]
    },
    {
      "cell_type": "code",
      "execution_count": null,
      "metadata": {
        "colab": {
          "base_uri": "https://localhost:8080/"
        },
        "id": "0tMfIYjHE5BG",
        "outputId": "aa3c1db0-7902-409e-ab2c-2257fcf9731f"
      },
      "outputs": [
        {
          "output_type": "stream",
          "name": "stdout",
          "text": [
            "Log in\n",
            "Nombre de usuario:Miguel\n",
            "contraseñaqwerty\n",
            "Usuario encontrado\n",
            "La contraseña coincide\n",
            "entraste al sistema\n"
          ]
        }
      ],
      "source": [
        "usuario_db='Miguel'\n",
        "contraseña_db='qwerty'\n",
        "print('Log in')\n",
        "usuario_ingresado=input('Nombre de usuario:')\n",
        "contraseña_ingresada= input('contraseña')\n",
        "\n",
        "if  usuario_ingresado==usuario_db:\n",
        "  print('Usuario encontrado')\n",
        "  if contraseña_ingresada==contraseña_db:\n",
        "    print('La contraseña coincide')\n",
        "    print('entraste al sistema')\n",
        "  else:\n",
        "    print('La contraseña no coincide')\n",
        "else:\n",
        "  print('Usuario no coincide')\n"
      ]
    }
  ],
  "metadata": {
    "colab": {
      "collapsed_sections": [],
      "provenance": []
    },
    "kernelspec": {
      "display_name": "Python 3",
      "name": "python3"
    },
    "language_info": {
      "name": "python"
    }
  },
  "nbformat": 4,
  "nbformat_minor": 0
}