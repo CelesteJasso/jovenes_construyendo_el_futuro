{
  "nbformat": 4,
  "nbformat_minor": 0,
  "metadata": {
    "colab": {
      "provenance": []
    },
    "kernelspec": {
      "name": "python3",
      "display_name": "Python 3"
    },
    "language_info": {
      "name": "python"
    }
  },
  "cells": [
    {
      "cell_type": "code",
      "source": [
        "#Ciclo for\n",
        "#estructura de control cíclica. Nos permiten ejecutar una o varias líneas de código de forma iterativa (o repetitiva), pero teniendo cierto control y conocimiento sobre las iteraciones. En el ciclo for en Python, es necesario tener un valor inicial y un valor final, y opcionalmente podemos hacer uso del tamaño del \"paso\" entre cada \"giro\" o iteración del ciclo.\n",
        "\n",
        "#Ejemplo for i in range(500, 1000, 2):\n",
        "    #print(i)"
      ],
      "metadata": {
        "id": "8RZ6hxGJhgDI"
      },
      "execution_count": null,
      "outputs": []
    },
    {
      "cell_type": "code",
      "execution_count": null,
      "metadata": {
        "id": "zXI_33EWcrMW"
      },
      "outputs": [],
      "source": [
        "# resolver 1+2+3...+99+100\n",
        "#For\n"
      ]
    },
    {
      "cell_type": "code",
      "source": [
        "for i in range(10):\n",
        "  print(\"El valor de i es\",i)"
      ],
      "metadata": {
        "colab": {
          "base_uri": "https://localhost:8080/"
        },
        "id": "y_V5vBD9hjiU",
        "outputId": "68442f4a-1ea5-477b-ab22-cc3c3fb2cfda"
      },
      "execution_count": 2,
      "outputs": [
        {
          "output_type": "stream",
          "name": "stdout",
          "text": [
            "El valor de i es 0\n",
            "El valor de i es 1\n",
            "El valor de i es 2\n",
            "El valor de i es 3\n",
            "El valor de i es 4\n",
            "El valor de i es 5\n",
            "El valor de i es 6\n",
            "El valor de i es 7\n",
            "El valor de i es 8\n",
            "El valor de i es 9\n"
          ]
        }
      ]
    },
    {
      "cell_type": "code",
      "source": [
        "for j in range(5):\n",
        "  print(\"El valor de j es\",j)"
      ],
      "metadata": {
        "colab": {
          "base_uri": "https://localhost:8080/"
        },
        "id": "L-67aQxjjThP",
        "outputId": "b8275d5e-9d40-490d-948f-f0d5bc775e3d"
      },
      "execution_count": 3,
      "outputs": [
        {
          "output_type": "stream",
          "name": "stdout",
          "text": [
            "El valor de j es 0\n",
            "El valor de j es 1\n",
            "El valor de j es 2\n",
            "El valor de j es 3\n",
            "El valor de j es 4\n"
          ]
        }
      ]
    },
    {
      "cell_type": "code",
      "source": [
        "suma=0\n",
        "for i in range(100):\n",
        "  suma=suma+(i+1)\n",
        "  #print(i+1)\n",
        "  #suma=1, i=0, i=1 (al sumarle uno la secuencia\n",
        "  #que empezaba en 0 cambia su valor a 0 ya que suma 1\n",
        "  #) Solo se suma cuando no se usa range de dos valores\n",
        "print(suma)"
      ],
      "metadata": {
        "colab": {
          "base_uri": "https://localhost:8080/"
        },
        "id": "Oy0XHCeEk2iu",
        "outputId": "89116f0f-10b2-45cf-e0c2-7fcb719293e4"
      },
      "execution_count": 5,
      "outputs": [
        {
          "output_type": "stream",
          "name": "stdout",
          "text": [
            "5050\n"
          ]
        }
      ]
    },
    {
      "cell_type": "code",
      "source": [
        "for i in range(5,10):\n",
        "  print(i)"
      ],
      "metadata": {
        "colab": {
          "base_uri": "https://localhost:8080/"
        },
        "id": "cnf2Ta5rn9zE",
        "outputId": "16322b32-6224-4dda-a42f-5f9ddcc348c5"
      },
      "execution_count": 7,
      "outputs": [
        {
          "output_type": "stream",
          "name": "stdout",
          "text": [
            "5\n",
            "6\n",
            "7\n",
            "8\n",
            "9\n"
          ]
        }
      ]
    },
    {
      "cell_type": "code",
      "source": [
        "for i in range (1,21,5):\n",
        "  print(i)"
      ],
      "metadata": {
        "colab": {
          "base_uri": "https://localhost:8080/"
        },
        "id": "67TEM36zo6k3",
        "outputId": "eaca52b4-08b9-4628-8f8f-9249c5732f86"
      },
      "execution_count": 10,
      "outputs": [
        {
          "output_type": "stream",
          "name": "stdout",
          "text": [
            "1\n",
            "6\n",
            "11\n",
            "16\n"
          ]
        }
      ]
    },
    {
      "cell_type": "code",
      "source": [
        "#suma=100+101..+200=?\n",
        "suma=0\n",
        "for i in range(100,201):\n",
        "  suma=suma+(i+1)\n",
        "print(suma)"
      ],
      "metadata": {
        "colab": {
          "base_uri": "https://localhost:8080/"
        },
        "id": "twkzeORkqGN7",
        "outputId": "e7ae5773-9423-48b8-c25e-629437230165"
      },
      "execution_count": 11,
      "outputs": [
        {
          "output_type": "stream",
          "name": "stdout",
          "text": [
            "15251\n"
          ]
        }
      ]
    },
    {
      "cell_type": "code",
      "source": [
        "# un programa donde le piden al usuario el el limitee superior para realizar la suma partiendo desde cero y hasta llegar al limite superior\n",
        "#si el usuario me dice que el limite superior es 145\n",
        "# suma de 1+2+\n",
        "limite=int(input('Escribe el limite: '))\n",
        "suma=0\n",
        "for i in range(1,limite+1):\n",
        "  suma+=i\n",
        "print(suma)"
      ],
      "metadata": {
        "colab": {
          "base_uri": "https://localhost:8080/"
        },
        "id": "L3S3MAkAqsHb",
        "outputId": "78b3dd1e-698c-448d-8d8f-18a54a872d31"
      },
      "execution_count": 30,
      "outputs": [
        {
          "output_type": "stream",
          "name": "stdout",
          "text": [
            "Escribe el limite: 145\n",
            "10585\n"
          ]
        }
      ]
    },
    {
      "cell_type": "code",
      "source": [
        "limite=int(input('Escribe el limite superior: '))\n",
        "suma=0\n",
        "for i in range(1,limite+1):\n",
        "  suma+=i #suma=suma+1\n",
        "print(suma)"
      ],
      "metadata": {
        "colab": {
          "base_uri": "https://localhost:8080/"
        },
        "id": "iXvC3LzIuBNh",
        "outputId": "e9193ba0-34dc-42ca-efa6-41ae19ab0bbd"
      },
      "execution_count": 27,
      "outputs": [
        {
          "output_type": "stream",
          "name": "stdout",
          "text": [
            "Escribe el limite superior: 145\n",
            "10585\n"
          ]
        }
      ]
    },
    {
      "cell_type": "code",
      "source": [
        "9/4"
      ],
      "metadata": {
        "colab": {
          "base_uri": "https://localhost:8080/"
        },
        "id": "hIiRAAEzvVc7",
        "outputId": "71d9f112-3613-424d-fef5-b445da2c5392"
      },
      "execution_count": 18,
      "outputs": [
        {
          "output_type": "execute_result",
          "data": {
            "text/plain": [
              "2.25"
            ]
          },
          "metadata": {},
          "execution_count": 18
        }
      ]
    },
    {
      "cell_type": "code",
      "source": [
        "9//4"
      ],
      "metadata": {
        "colab": {
          "base_uri": "https://localhost:8080/"
        },
        "id": "8jpQi1RnvFIQ",
        "outputId": "790c09d3-72bb-46d5-e4d1-967ab7c5972b"
      },
      "execution_count": 17,
      "outputs": [
        {
          "output_type": "execute_result",
          "data": {
            "text/plain": [
              "2"
            ]
          },
          "metadata": {},
          "execution_count": 17
        }
      ]
    },
    {
      "cell_type": "code",
      "source": [
        "9%4"
      ],
      "metadata": {
        "colab": {
          "base_uri": "https://localhost:8080/"
        },
        "id": "x8KosUmivbKX",
        "outputId": "4cfa3355-b048-44ae-afb1-28f7d088eb36"
      },
      "execution_count": 19,
      "outputs": [
        {
          "output_type": "execute_result",
          "data": {
            "text/plain": [
              "1"
            ]
          },
          "metadata": {},
          "execution_count": 19
        }
      ]
    },
    {
      "cell_type": "code",
      "source": [
        "print('Este programa suma numeros pares')\n",
        "print('En un rango de 1 hasra el que nos diga')\n",
        "print('el usuario')\n",
        "#2+4+6+8+10+...+par del limite superior\n",
        "limite=int(input('Escribe el limite superior: '))\n",
        "suma=0\n",
        "for i in range(1,limite+1):\n",
        "  if i%2==0:\n",
        "    suma+=i #suma=suma+1\n",
        "print(suma)\n",
        "# sumar unicamente numeros primos"
      ],
      "metadata": {
        "colab": {
          "base_uri": "https://localhost:8080/"
        },
        "id": "b129iRf9wCj4",
        "outputId": "c20602ab-f856-47db-c7ff-9ad2a62385f6"
      },
      "execution_count": 22,
      "outputs": [
        {
          "output_type": "stream",
          "name": "stdout",
          "text": [
            "Este programa suma numeros pares\n",
            "En un rango de 1 hasra el que nos diga\n",
            "el usuario\n",
            "Escribe el limite superior: 10\n",
            "30\n"
          ]
        }
      ]
    },
    {
      "cell_type": "code",
      "source": [
        "10%2"
      ],
      "metadata": {
        "colab": {
          "base_uri": "https://localhost:8080/"
        },
        "id": "JV3b7fK4xfSQ",
        "outputId": "c1ff1470-5029-4ae4-898e-d0cef6224779"
      },
      "execution_count": 21,
      "outputs": [
        {
          "output_type": "execute_result",
          "data": {
            "text/plain": [
              "0"
            ]
          },
          "metadata": {},
          "execution_count": 21
        }
      ]
    }
  ]
}